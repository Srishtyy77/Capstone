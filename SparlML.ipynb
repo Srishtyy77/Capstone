{
  "nbformat": 4,
  "nbformat_minor": 0,
  "metadata": {
    "colab": {
      "name": "SparlML.ipynb",
      "provenance": []
    },
    "kernelspec": {
      "name": "python3",
      "display_name": "Python 3"
    },
    "language_info": {
      "name": "python"
    }
  },
  "cells": [
    {
      "cell_type": "code",
      "source": [
        "!pip install pyspark\n",
        "\n",
        "!apt-get install openjdk-8-jdk-headless -qq > /dev/null\n",
        "\n",
        "!wget -q https://dlcdn.apache.org/spark/spark-3.2.1/spark-3.2.1-bin-hadoop2.7.tgz\n",
        "!tar xf spark-3.2.1-bin-hadoop2.7.tgz\n",
        "\n",
        "!pip install -q findspark\n",
        "\n",
        "import os\n",
        "os.environ[\"JAVA_HOME\"] = \"/usr/lib/jvm/java-8-openjdk-amd64\"\n",
        "os.environ[\"SPARK_HOME\"] = \"/content/spark-3.2.1-bin-hadoop2.7\""
      ],
      "metadata": {
        "colab": {
          "base_uri": "https://localhost:8080/"
        },
        "id": "m9fkTIeg1XSW",
        "outputId": "97db480e-e273-4e3d-ba0a-c46554ba96e2"
      },
      "execution_count": 2,
      "outputs": [
        {
          "output_type": "stream",
          "name": "stdout",
          "text": [
            "Collecting pyspark\n",
            "  Downloading pyspark-3.2.1.tar.gz (281.4 MB)\n",
            "\u001b[K     |████████████████████████████████| 281.4 MB 34 kB/s \n",
            "\u001b[?25hCollecting py4j==0.10.9.3\n",
            "  Downloading py4j-0.10.9.3-py2.py3-none-any.whl (198 kB)\n",
            "\u001b[K     |████████████████████████████████| 198 kB 42.4 MB/s \n",
            "\u001b[?25hBuilding wheels for collected packages: pyspark\n",
            "  Building wheel for pyspark (setup.py) ... \u001b[?25l\u001b[?25hdone\n",
            "  Created wheel for pyspark: filename=pyspark-3.2.1-py2.py3-none-any.whl size=281853642 sha256=e86021adf1bf6c4776ced58d5905e79473c55a7d274c25c8a7d3c0f01f4feb12\n",
            "  Stored in directory: /root/.cache/pip/wheels/9f/f5/07/7cd8017084dce4e93e84e92efd1e1d5334db05f2e83bcef74f\n",
            "Successfully built pyspark\n",
            "Installing collected packages: py4j, pyspark\n",
            "Successfully installed py4j-0.10.9.3 pyspark-3.2.1\n"
          ]
        }
      ]
    },
    {
      "cell_type": "code",
      "execution_count": 3,
      "metadata": {
        "colab": {
          "base_uri": "https://localhost:8080/",
          "height": 219
        },
        "id": "Ftgj_2J_08j9",
        "outputId": "fd189808-ad90-43f7-b148-a002aa276042"
      },
      "outputs": [
        {
          "output_type": "execute_result",
          "data": {
            "text/plain": [
              "<pyspark.sql.session.SparkSession at 0x7f2b7fe70810>"
            ],
            "text/html": [
              "\n",
              "            <div>\n",
              "                <p><b>SparkSession - in-memory</b></p>\n",
              "                \n",
              "        <div>\n",
              "            <p><b>SparkContext</b></p>\n",
              "\n",
              "            <p><a href=\"http://5d98df1bafa7:4040\">Spark UI</a></p>\n",
              "\n",
              "            <dl>\n",
              "              <dt>Version</dt>\n",
              "                <dd><code>v3.2.1</code></dd>\n",
              "              <dt>Master</dt>\n",
              "                <dd><code>local[*]</code></dd>\n",
              "              <dt>AppName</dt>\n",
              "                <dd><code>project_capstone</code></dd>\n",
              "            </dl>\n",
              "        </div>\n",
              "        \n",
              "            </div>\n",
              "        "
            ]
          },
          "metadata": {},
          "execution_count": 3
        }
      ],
      "source": [
        "from pyspark.sql import SparkSession\n",
        "from pyspark.sql.types import *\n",
        "from pyspark.sql.functions import *\n",
        "spark = (SparkSession.builder.appName(\"project_capstone\").getOrCreate())\n",
        "spark"
      ]
    },
    {
      "cell_type": "code",
      "source": [
        "df_departments = spark.read.csv('departments.csv', header = True, inferSchema = True)\n",
        "df_deptemp = spark.read.csv('dept_emp.csv', header = True, inferSchema = True)\n",
        "df_deptmanager = spark.read.csv('dept_manager.csv', header = True, inferSchema = True)\n",
        "df_employees = spark.read.csv('employees.csv', header = True, inferSchema = True)\n",
        "df_salaries = spark.read.csv('salaries.csv', header = True, inferSchema = True)\n",
        "df_titles = spark.read.csv('titles.csv' , header = True , inferSchema = True)"
      ],
      "metadata": {
        "id": "nq1JHyyc1E6n"
      },
      "execution_count": 4,
      "outputs": []
    },
    {
      "cell_type": "code",
      "source": [
        "df = df_employees.join(df_deptemp,on = 'emp_no', how = 'left') \\\n",
        "        .join(df_departments, on='dept_no',how = 'left') \\\n",
        "        .join(df_salaries, on ='emp_no', how = 'left') \\\n",
        "        .join(df_titles, df_employees.emp_title_id == df_titles.title_id, 'left')"
      ],
      "metadata": {
        "id": "FdYBP_KB1WGq"
      },
      "execution_count": 5,
      "outputs": []
    },
    {
      "cell_type": "code",
      "source": [
        "df.show()"
      ],
      "metadata": {
        "colab": {
          "base_uri": "https://localhost:8080/"
        },
        "id": "OAkKC2dK8BvO",
        "outputId": "487bafc1-a4db-4d99-fbfd-9b9ed9752f0b"
      },
      "execution_count": 6,
      "outputs": [
        {
          "output_type": "stream",
          "name": "stdout",
          "text": [
            "+------+-------+------------+----------+----------+----------+---+----------+--------------+-----------------------+----+----------+------------------+------+--------+----------------+\n",
            "|emp_no|dept_no|emp_title_id|birth_date|first_name| last_name|sex| hire_date|no_of_projects|Last_performance_rating|left| last_date|         dept_name|salary|title_id|           title|\n",
            "+------+-------+------------+----------+----------+----------+---+----------+--------------+-----------------------+----+----------+------------------+------+--------+----------------+\n",
            "|473302|   d002|       s0001|1953-07-25|  Hideyuki|  Zallocco|  M|1990-04-28|             2|                      A|   0|      null|           Finance| 40000|   s0001|           Staff|\n",
            "|475053|   d004|       e0002|1954-11-18|     Byong| Delgrande|  F|1991-07-09|             1|                      C|   0|      null|        Production| 53422|   e0002|        Engineer|\n",
            "| 57444|   d004|       e0002|1958-01-30|     Berry|      Babb|  F|1992-03-21|             9|                      A|   0|      null|        Production| 48973|   e0002|        Engineer|\n",
            "|421786|   d003|       s0001|1957-09-28|     Xiong|  Verhoeff|  M|1987-11-26|             2|                      C|   0|      null|   Human Resources| 40000|   s0001|           Staff|\n",
            "|282238|   d006|       e0003|1952-10-28|Abdelkader|   Baumann|  F|1991-01-18|             6|                      B|   0|      null|Quality Management| 40000|   e0003| Senior Engineer|\n",
            "|263976|   d006|       e0003|1959-10-30|      Eran|  Cusworth|  M|1986-11-14|             8|                      B|   1|1993-08-21|Quality Management| 40000|   e0003| Senior Engineer|\n",
            "|273487|   d003|       s0001|1957-04-14| Christoph|   Parfitt|  M|1991-06-28|            10|                      A|   0|      null|   Human Resources| 56087|   s0001|           Staff|\n",
            "|461591|   d002|       s0002|1964-11-17|    Xudong|  Samarati|  M|1985-11-13|             2|                      A|   1|1994-08-21|           Finance| 40000|   s0002|    Senior Staff|\n",
            "|477657|   d006|       e0002|1962-12-18|    Lihong| Magliocco|  M|1993-10-23|             5|                      A|   0|      null|Quality Management| 54816|   e0002|        Engineer|\n",
            "|219881|   d009|       s0002|1956-04-24| Kwangyoen|     Speek|  F|1993-02-14|             6|                      B|   0|      null|  Customer Service| 40000|   s0002|    Senior Staff|\n",
            "| 29920|   d004|       e0002|1961-12-31|   Shuichi|     Tyugu|  F|1995-01-17|             1|                    PIP|   0|      null|        Production| 40000|   e0002|        Engineer|\n",
            "|208153|   d005|       e0003|1961-10-25|   Abdulah|      Lunn|  M|1989-08-04|             8|                      C|   1|2000-08-02|       development| 50183|   e0003| Senior Engineer|\n",
            "| 13616|   d008|       e0003|1961-08-30|     Perry|     Lorho|  F|1991-03-08|             7|                      C|   0|      null|          Research| 40000|   e0003| Senior Engineer|\n",
            "| 13616|   d005|       e0003|1961-08-30|     Perry|     Lorho|  F|1991-03-08|             7|                      C|   0|      null|       development| 40000|   e0003| Senior Engineer|\n",
            "|246449|   d007|       s0001|1958-03-23|     Subbu|Bultermann|  F|1988-03-25|             9|                      C|   0|      null|             Sales| 87084|   s0001|           Staff|\n",
            "| 21529|   d005|       e0002|1959-05-19|     Bojan|  Zallocco|  M|1986-10-14|             7|                      C|   0|      null|       development| 40000|   e0002|        Engineer|\n",
            "| 17934|   d005|       e0004|1963-12-07|  Bilhanan|  Wuwongse|  M|1993-06-10|             7|                      C|   0|      null|       development| 48795|   e0004|Technique Leader|\n",
            "| 48085|   d002|       s0001|1964-01-19|Venkatesan|      Gilg|  M|1993-06-28|             9|                      B|   0|      null|           Finance| 63016|   s0001|           Staff|\n",
            "|239838|   d004|       e0002|1957-11-12|   Naftali|     Dulli|  M|1993-06-06|             3|                      A|   0|      null|        Production| 57715|   e0002|        Engineer|\n",
            "|240129|   d006|       e0004|1952-11-08|     Roddy|    Karnin|  M|1985-05-29|            10|                      C|   0|      null|Quality Management| 43548|   e0004|Technique Leader|\n",
            "+------+-------+------------+----------+----------+----------+---+----------+--------------+-----------------------+----+----------+------------------+------+--------+----------------+\n",
            "only showing top 20 rows\n",
            "\n"
          ]
        }
      ]
    },
    {
      "cell_type": "code",
      "source": [
        "#Any null(missings) values\n",
        "from pyspark.sql.functions import isnull\n",
        "df_clean = df.na.drop( how = 'any' )"
      ],
      "metadata": {
        "id": "8hV9NHwX8FHB"
      },
      "execution_count": 9,
      "outputs": []
    },
    {
      "cell_type": "code",
      "source": [
        "df_clean.count() == df.count()"
      ],
      "metadata": {
        "colab": {
          "base_uri": "https://localhost:8080/"
        },
        "id": "nWnzhWDk8J8l",
        "outputId": "cc21c7cc-6927-4b40-a212-ffe3cef37fae"
      },
      "execution_count": 10,
      "outputs": [
        {
          "output_type": "execute_result",
          "data": {
            "text/plain": [
              "False"
            ]
          },
          "metadata": {},
          "execution_count": 10
        }
      ]
    },
    {
      "cell_type": "code",
      "source": [
        "df.printSchema()"
      ],
      "metadata": {
        "colab": {
          "base_uri": "https://localhost:8080/"
        },
        "id": "AvfMRE-S8J2T",
        "outputId": "ff2e027e-7915-45b0-f43c-a7e2c1f0f2be"
      },
      "execution_count": 11,
      "outputs": [
        {
          "output_type": "stream",
          "name": "stdout",
          "text": [
            "root\n",
            " |-- emp_no: integer (nullable = true)\n",
            " |-- dept_no: string (nullable = true)\n",
            " |-- emp_title_id: string (nullable = true)\n",
            " |-- birth_date: string (nullable = true)\n",
            " |-- first_name: string (nullable = true)\n",
            " |-- last_name: string (nullable = true)\n",
            " |-- sex: string (nullable = true)\n",
            " |-- hire_date: string (nullable = true)\n",
            " |-- no_of_projects: integer (nullable = true)\n",
            " |-- Last_performance_rating: string (nullable = true)\n",
            " |-- left: integer (nullable = true)\n",
            " |-- last_date: string (nullable = true)\n",
            " |-- dept_name: string (nullable = true)\n",
            " |-- salary: integer (nullable = true)\n",
            " |-- title_id: string (nullable = true)\n",
            " |-- title: string (nullable = true)\n",
            "\n"
          ]
        }
      ]
    },
    {
      "cell_type": "code",
      "source": [
        "import matplotlib.pyplot as plt\n",
        "import seaborn as sn\n",
        "%matplotlib inline"
      ],
      "metadata": {
        "id": "Z8TlDirZ8J1J"
      },
      "execution_count": 12,
      "outputs": []
    },
    {
      "cell_type": "code",
      "source": [
        "import pandas as pd"
      ],
      "metadata": {
        "id": "1ibLi77g8Jzf"
      },
      "execution_count": 13,
      "outputs": []
    },
    {
      "cell_type": "code",
      "source": [
        "df1 = df.toPandas()"
      ],
      "metadata": {
        "id": "873ZNl5P8Jsl"
      },
      "execution_count": 14,
      "outputs": []
    },
    {
      "cell_type": "code",
      "source": [
        "title_salary = df1.groupby('title')['salary'].sum()\n",
        "\n",
        "plt.pie(title_salary,autopct=\"%2.0f%%\" )\n",
        "plt.title('salary per title')\n",
        "\n",
        "plt.show()"
      ],
      "metadata": {
        "colab": {
          "base_uri": "https://localhost:8080/",
          "height": 427
        },
        "id": "ofc9EoOi9H9E",
        "outputId": "f17ea49b-aa90-4fc9-acae-fe5cf64341ae"
      },
      "execution_count": 26,
      "outputs": [
        {
          "output_type": "display_data",
          "data": {
            "text/plain": [
              "<Figure size 720x504 with 1 Axes>"
            ],
            "image/png": "[encoded data removed]"
          },
          "metadata": {}
        }
      ]
    },
    {
      "cell_type": "code",
      "source": [
        "salary_gender_title = df1.groupby(['sex','title'])['salary'].sum()\n",
        "\n",
        "salary_gender_title.plot(kind = 'bar',figsize=(10,10), width = 1.0)\n",
        "plt.ylabel('Salary')\n",
        "plt.title('Salary per gender per title')\n",
        "\n",
        "plt.show()"
      ],
      "metadata": {
        "colab": {
          "base_uri": "https://localhost:8080/",
          "height": 728
        },
        "id": "eU1iDdEH9H1K",
        "outputId": "3f211713-3e08-40a9-f2a6-1d78a94ef922"
      },
      "execution_count": 27,
      "outputs": [
        {
          "output_type": "display_data",
          "data": {
            "text/plain": [
              "<Figure size 720x720 with 1 Axes>"
            ],
            "image/png": "[encoded data removed]"
          },
          "metadata": {
            "needs_background": "light"
          }
        }
      ]
    },
    {
      "cell_type": "code",
      "source": [
        "#Columns that will be used as features and their types\n",
        "continuous_features = ['salary','no_of_projects']\n",
        "                    \n",
        "categorical_features = ['dept_name', 'dept_no','title']"
      ],
      "metadata": {
        "id": "j5LCKkNX9Hyi"
      },
      "execution_count": 28,
      "outputs": []
    },
    {
      "cell_type": "code",
      "source": [
        "#Encoding all categorical features\n",
        "from pyspark.ml.feature import OneHotEncoderEstimator , StringIndexer, VectorAssembler, PolynomialExpansion, VectorIndexer"
      ],
      "metadata": {
        "id": "88jhhLer9HlT"
      },
      "execution_count": 33,
      "outputs": []
    },
    {
      "cell_type": "code",
      "source": [
        "# create object of StringIndexer class and specify input and output column\n",
        "SI_dept_name = StringIndexer(inputCol='dept_name',outputCol='dept_name_Idx5')\n",
        "SI_dept_no = StringIndexer(inputCol='dept_no',outputCol='dept_no_Idx5')\n",
        "SI_title = StringIndexer(inputCol='title',outputCol='title_Idx5')\n",
        "\n",
        "\n",
        "\n",
        "# transform the data\n",
        "df = SI_dept_name.fit(df).transform(df)\n",
        "df = SI_dept_no.fit(df).transform(df)\n",
        "df = SI_title.fit(df).transform(df)\n",
        "\n",
        "\n",
        "\n",
        "# view the transformed data\n",
        "df.select('dept_name', 'dept_name_Idx5', 'dept_no', 'dept_no_Idx5', 'title','title_Idx5').show(5)"
      ],
      "metadata": {
        "colab": {
          "base_uri": "https://localhost:8080/"
        },
        "id": "JUbFdeb_ARBV",
        "outputId": "bf5ef2c9-1caf-4601-db12-2fd70f41e8e9"
      },
      "execution_count": 34,
      "outputs": [
        {
          "output_type": "stream",
          "name": "stdout",
          "text": [
            "+------------------+--------------+-------+------------+---------------+----------+\n",
            "|         dept_name|dept_name_Idx5|dept_no|dept_no_Idx5|          title|title_Idx5|\n",
            "+------------------+--------------+-------+------------+---------------+----------+\n",
            "|           Finance|           8.0|   d002|         8.0|          Staff|       0.0|\n",
            "|        Production|           1.0|   d004|         1.0|       Engineer|       2.0|\n",
            "|        Production|           1.0|   d004|         1.0|       Engineer|       2.0|\n",
            "|   Human Resources|           7.0|   d003|         7.0|          Staff|       0.0|\n",
            "|Quality Management|           6.0|   d006|         6.0|Senior Engineer|       1.0|\n",
            "+------------------+--------------+-------+------------+---------------+----------+\n",
            "only showing top 5 rows\n",
            "\n"
          ]
        }
      ]
    },
    {
      "cell_type": "code",
      "source": [
        "# create object and specify input and output column\n",
        "OHE = OneHotEncoderEstimator(inputCols=['dept_name_Idx5', 'dept_no_Idx5','title_Idx5'],outputCols=['dept_name_vec5', 'dept_no_vec5','title_vec5'])\n",
        "\n",
        "# transform the data\n",
        "df = OHE.fit(df).transform(df)\n",
        "\n",
        "# view and transform the data\n",
        "df.select('dept_name', 'dept_name_Idx5', 'dept_name_vec5', 'dept_no', 'dept_no_Idx5', 'dept_no_vec5', 'title','title_Idx5','title_vec5').show(10)"
      ],
      "metadata": {
        "id": "TFxzu7ILDBMx"
      },
      "execution_count": null,
      "outputs": []
    },
    {
      "cell_type": "code",
      "source": [
        "featureCols = continuous_features + ['dept_name_vec5',   'dept_no_vec5','title_vec5'] "
      ],
      "metadata": {
        "id": "83aW1OSfAiNI"
      },
      "execution_count": 38,
      "outputs": []
    },
    {
      "cell_type": "code",
      "source": [
        "assembler = VectorAssembler( inputCols = featureCols, outputCol = \"features\")"
      ],
      "metadata": {
        "id": "1Mok0zajAiLn"
      },
      "execution_count": 39,
      "outputs": []
    },
    {
      "cell_type": "code",
      "source": [
        ""
      ],
      "metadata": {
        "id": "_dkyL2X3DHyI"
      },
      "execution_count": null,
      "outputs": []
    },
    {
      "cell_type": "code",
      "source": [
        "train_df1 = assembler.transform( df )"
      ],
      "metadata": {
        "id": "ZPBU8ZxADZoD"
      },
      "execution_count": null,
      "outputs": []
    },
    {
      "cell_type": "markdown",
      "source": [
        "+--------------------+--------------+--------------+-------+------------+-------------+------------------+----------+-------------+\n",
        "|           dept_name|dept_name_Idx5|dept_name_vec5|dept_no|dept_no_Idx5| dept_no_vec5|             title|title_Idx5|   title_vec5|\n",
        "+--------------------+--------------+--------------+-------+------------+-------------+------------------+----------+-------------+\n",
        "|       \"development\"|           0.0| (8,[0],[1.0])|   d005|         0.0|(8,[0],[1.0])|   Senior Engineer|       1.0|(6,[1],[1.0])|\n",
        "|             \"Sales\"|           2.0| (8,[2],[1.0])|   d007|         2.0|(8,[2],[1.0])|             Staff|       0.0|(6,[0],[1.0])|\n",
        "|        \"Production\"|           1.0| (8,[1],[1.0])|   d004|         1.0|(8,[1],[1.0])|   Senior Engineer|       1.0|(6,[1],[1.0])|\n",
        "|        \"Production\"|           1.0| (8,[1],[1.0])|   d004|         1.0|(8,[1],[1.0])|   Senior Engineer|       1.0|(6,[1],[1.0])|\n",
        "|   \"Human Resources\"|           7.0| (8,[7],[1.0])|   d003|         7.0|(8,[7],[1.0])|             Staff|       0.0|(6,[0],[1.0])|\n",
        "|       \"development\"|           0.0| (8,[0],[1.0])|   d005|         0.0|(8,[0],[1.0])|   Senior Engineer|       1.0|(6,[1],[1.0])|\n",
        "|          \"Research\"|           4.0| (8,[4],[1.0])|   d008|         4.0|(8,[4],[1.0])|             Staff|       0.0|(6,[0],[1.0])|\n",
        "|       \"development\"|           0.0| (8,[0],[1.0])|   d005|         0.0|(8,[0],[1.0])|Assistant Engineer|       5.0|(6,[5],[1.0])|\n",
        "|\"Quality Management\"|           6.0| (8,[6],[1.0])|   d006|         6.0|(8,[6],[1.0])|   Senior Engineer|       1.0|(6,[1],[1.0])|\n",
        "|\"Quality Management\"|           6.0| (8,[6],[1.0])|   d006|         6.0|(8,[6],[1.0])|          Engineer|       2.0|(6,[2],[1.0])|\n",
        "+--------------------+--------------+--------------+-------+------------+-------------+------------------+----------+-------------+\n",
        "only showing top 10 rows\n"
      ],
      "metadata": {
        "id": "OAhboaTADVW4"
      }
    },
    {
      "cell_type": "code",
      "source": [
        "featureCols = continuous_features + ['dept_name_vec5',   'dept_no_vec5','title_vec5'] "
      ],
      "metadata": {
        "id": "-FoBrdFyDenG"
      },
      "execution_count": 41,
      "outputs": []
    },
    {
      "cell_type": "code",
      "source": [
        "assembler = VectorAssembler( inputCols = featureCols, outputCol = \"features\")"
      ],
      "metadata": {
        "id": "I3-1kce8Delo"
      },
      "execution_count": 42,
      "outputs": []
    },
    {
      "cell_type": "code",
      "source": [
        "train_df1 = assembler.transform( df )"
      ],
      "metadata": {
        "id": "NVCWg04RDed0"
      },
      "execution_count": null,
      "outputs": []
    },
    {
      "cell_type": "code",
      "source": [
        "train_df1 = train_df1.withColumn('label', train_df1['left1'].cast('integer'))"
      ],
      "metadata": {
        "id": "1b8N3CktDecP"
      },
      "execution_count": null,
      "outputs": []
    },
    {
      "cell_type": "code",
      "source": [
        "#Split the dataset\n",
        "train_df, test_df = train_df1.randomSplit( [0.7, 0.3], seed = 42 )"
      ],
      "metadata": {
        "id": "VAmVCM_DDeVF"
      },
      "execution_count": null,
      "outputs": []
    },
    {
      "cell_type": "code",
      "source": [
        "from pyspark.ml.classification import LogisticRegression"
      ],
      "metadata": {
        "id": "M7rjfqWkDeTi"
      },
      "execution_count": null,
      "outputs": []
    },
    {
      "cell_type": "code",
      "source": [
        "#linreg = LinearRegression(maxIter=500, regParam=0.0)\n",
        "linreg = LogisticRegression()"
      ],
      "metadata": {
        "id": "6Ktko0Z8DeNQ"
      },
      "execution_count": null,
      "outputs": []
    },
    {
      "cell_type": "code",
      "source": [
        "lm = linreg.fit( train_df )"
      ],
      "metadata": {
        "id": "Bkwv9-hoDdyp"
      },
      "execution_count": null,
      "outputs": []
    },
    {
      "cell_type": "code",
      "source": [
        "#Make predictions on train data and evaluate\n",
        "y_pred_train = lm.transform(train_df)"
      ],
      "metadata": {
        "id": "TAO5nSf3Dq22"
      },
      "execution_count": null,
      "outputs": []
    },
    {
      "cell_type": "code",
      "source": [
        "y_pred_test = lm.transform( test_df )"
      ],
      "metadata": {
        "id": "8feaNrMtDtDv"
      },
      "execution_count": null,
      "outputs": []
    },
    {
      "cell_type": "code",
      "source": [
        "y_pred_test.select( 'features',  'label', 'prediction', 'left1' ).show( 5 )"
      ],
      "metadata": {
        "id": "YK_BKnPGDui5"
      },
      "execution_count": null,
      "outputs": []
    },
    {
      "cell_type": "markdown",
      "source": [
        "+--------------------+-----+----------+-----+\n",
        "|            features|label|prediction|left1|\n",
        "+--------------------+-----+----------+-----+\n",
        "|(24,[0,1,4,12,18]...|    0|       0.0|false|\n",
        "|(24,[0,1,3,11,19]...|    0|       0.0|false|\n",
        "|(24,[0,1,3,11,19]...|    0|       0.0|false|\n",
        "|(24,[0,1,9,17,21]...|    0|       0.0|false|\n",
        "|(24,[0,1,4,12,18]...|    0|       0.0|false|\n",
        "+--------------------+-----+----------+-----+\n",
        "only showing top 5 rows"
      ],
      "metadata": {
        "id": "rngfZ3lzDxWG"
      }
    },
    {
      "cell_type": "code",
      "source": [
        "from pyspark.ml.classification import GBTClassifier\n",
        "gbt = GBTClassifier(maxIter = 10, featuresCol='features', labelCol='label')\n",
        "gbt_model = gbt.fit(train_df)"
      ],
      "metadata": {
        "id": "bDezsvLHD6bn"
      },
      "execution_count": null,
      "outputs": []
    },
    {
      "cell_type": "code",
      "source": [
        "predictions = gbt_model.transform(test_df)"
      ],
      "metadata": {
        "id": "W4CIxtThD9aA"
      },
      "execution_count": null,
      "outputs": []
    },
    {
      "cell_type": "code",
      "source": [
        "from pyspark.ml.evaluation import MulticlassClassificationEvaluator"
      ],
      "metadata": {
        "id": "518gGlA6D-97"
      },
      "execution_count": 43,
      "outputs": []
    },
    {
      "cell_type": "code",
      "source": [
        "evaluator = MulticlassClassificationEvaluator(labelCol='label', predictionCol='prediction', metricName='accuracy')\n",
        "accuracy = evaluator.evaluate(predictions)\n",
        "accuracy"
      ],
      "metadata": {
        "id": "hcSFPKeDD-1Q"
      },
      "execution_count": null,
      "outputs": []
    },
    {
      "cell_type": "markdown",
      "source": [
        "0.9013686177465785"
      ],
      "metadata": {
        "id": "ntR3Yn09EGr3"
      }
    },
    {
      "cell_type": "code",
      "source": [
        ""
      ],
      "metadata": {
        "id": "7IcyS3jGEIWX"
      },
      "execution_count": null,
      "outputs": []
    },
    {
      "cell_type": "code",
      "source": [
        ""
      ],
      "metadata": {
        "id": "6RQ-Ip5VD-xX"
      },
      "execution_count": null,
      "outputs": []
    },
    {
      "cell_type": "code",
      "source": [
        ""
      ],
      "metadata": {
        "id": "Q9jrwYqfD-kR"
      },
      "execution_count": null,
      "outputs": []
    },
    {
      "cell_type": "code",
      "source": [
        ""
      ],
      "metadata": {
        "id": "TK-kcrNrD-dX"
      },
      "execution_count": null,
      "outputs": []
    }
  ]
}